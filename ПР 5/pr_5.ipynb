{
 "cells": [
  {
   "cell_type": "markdown",
   "metadata": {},
   "source": [
    "# Практическая работа 5. Разведочный анализ данных с помощью PySpark"
   ]
  },
  {
   "cell_type": "markdown",
   "metadata": {
    "id": "HIXCFKDrICWk"
   },
   "source": [
    "# **1. Инициализация платформы Spark и загрузка данных в фрейм данных Spark** <a class=\"anchor\" id=\"1\"></a>\n",
    "\n",
    "\n",
    "Источник данных: https://www.kaggle.com/datasets/dhruvildave/spotify-charts"
   ]
  },
  {
   "cell_type": "code",
   "execution_count": 1,
   "metadata": {
    "id": "6dELVVJbICWl"
   },
   "outputs": [],
   "source": [
    "# Импорт модулей, не связанныех с PySpark.\n",
    "import os\n",
    "import sys\n",
    "import pandas as pd\n",
    "from pandas import DataFrame\n",
    "import numpy as np\n",
    "import matplotlib.pyplot as plt\n",
    "import matplotlib.ticker as mtick\n",
    "import matplotlib\n",
    "from mpl_toolkits.mplot3d import Axes3D\n",
    "import math\n",
    "from IPython.core.interactiveshell import InteractiveShell\n",
    "from datetime import *\n",
    "import statistics as stats\n",
    "# Это помогает автоматически распечатывать элементы без явного использования «печати».\n",
    "InteractiveShell.ast_node_interactivity = \"all\"\n",
    "%matplotlib inline"
   ]
  },
  {
   "cell_type": "code",
   "execution_count": 2,
   "metadata": {
    "colab": {
     "base_uri": "https://localhost:8080/"
    },
    "id": "ykdUIWLZU78N",
    "outputId": "eddf87ae-a067-44c0-e2b6-76acfba73f7b"
   },
   "outputs": [
    {
     "name": "stdout",
     "output_type": "stream",
     "text": [
      "advanced_pyspark_for_exploratory_data_analysis.ipynb\n",
      "\u001b[0m\u001b[01;34mdata\u001b[0m/\n",
      "docker-compose.yml\n",
      "\u001b[01;34mimages\u001b[0m/\n",
      "\u001b[01;34mpyspark2024\u001b[0m/\n",
      "pyspark-for-data-science.ipynb\n",
      "\u001b[01;34mpySpark_tutorial-master\u001b[0m/\n",
      "README.md\n"
     ]
    }
   ],
   "source": [
    "ls"
   ]
  },
  {
   "cell_type": "code",
   "execution_count": 3,
   "metadata": {
    "colab": {
     "base_uri": "https://localhost:8080/"
    },
    "id": "IuFJri3aVHfw",
    "outputId": "743a0d1f-5285-4ff0-e256-7c203d891067"
   },
   "outputs": [
    {
     "name": "stdout",
     "output_type": "stream",
     "text": [
      "/home/user/work/data\n"
     ]
    }
   ],
   "source": [
    "cd data"
   ]
  },
  {
   "cell_type": "code",
   "execution_count": 4,
   "metadata": {
    "colab": {
     "base_uri": "https://localhost:8080/"
    },
    "id": "KLj_WcCoWL0j",
    "outputId": "5b6feefa-c9e3-433f-d946-85594f94060f"
   },
   "outputs": [
    {
     "name": "stdout",
     "output_type": "stream",
     "text": [
      "charts.csv  endomondoHR.json  movie_ratings_df.csv\n"
     ]
    }
   ],
   "source": [
    "ls"
   ]
  },
  {
   "cell_type": "code",
   "execution_count": 5,
   "metadata": {
    "colab": {
     "base_uri": "https://localhost:8080/"
    },
    "id": "uMTlUnU-WPep",
    "outputId": "af37de19-916a-44ac-b39e-c07eb11a5e40"
   },
   "outputs": [
    {
     "name": "stdout",
     "output_type": "stream",
     "text": [
      "Requirement already satisfied: pyspark in /usr/local/spark/python (3.5.0)\n",
      "Requirement already satisfied: py4j==0.10.9.7 in /opt/conda/lib/python3.11/site-packages (from pyspark) (0.10.9.7)\n"
     ]
    }
   ],
   "source": [
    "! pip install pyspark"
   ]
  },
  {
   "cell_type": "code",
   "execution_count": 6,
   "metadata": {
    "colab": {
     "base_uri": "https://localhost:8080/"
    },
    "id": "-8ndPyRcICWm",
    "outputId": "fa9ce8a9-280e-40d1-acfb-372654a24ab9"
   },
   "outputs": [
    {
     "name": "stdout",
     "output_type": "stream",
     "text": [
      "Data frame type: <class 'pyspark.sql.dataframe.DataFrame'>\n"
     ]
    }
   ],
   "source": [
    "# Импорт модулей, связанных с PySpark.\n",
    "import pyspark\n",
    "from pyspark.rdd import RDD\n",
    "from pyspark.sql import Row\n",
    "from pyspark.sql import DataFrame\n",
    "from pyspark.sql import SparkSession\n",
    "from pyspark.sql import SQLContext\n",
    "from pyspark.sql import functions\n",
    "from pyspark.sql.functions import lit, desc, col, size, array_contains\\\n",
    ", isnan, udf, hour, array_min, array_max, countDistinct\n",
    "from pyspark.sql.types import *\n",
    "\n",
    "MAX_MEMORY = '15G'\n",
    "# Инициализировать сеанс Spark.\n",
    "conf = pyspark.SparkConf().setMaster(\"local[*]\") \\\n",
    "        .set('spark.executor.heartbeatInterval', 10000) \\\n",
    "        .set('spark.network.timeout', 10000) \\\n",
    "        .set(\"spark.core.connection.ack.wait.timeout\", \"3600\") \\\n",
    "        .set(\"spark.executor.memory\", MAX_MEMORY) \\\n",
    "        .set(\"spark.driver.memory\", MAX_MEMORY)\n",
    "def init_spark():\n",
    "    spark = SparkSession \\\n",
    "        .builder \\\n",
    "        .appName(\"Pyspark guide\") \\\n",
    "        .config(conf=conf) \\\n",
    "        .getOrCreate()\n",
    "    return spark\n",
    "\n",
    "spark = init_spark()\n",
    "filename_data = 'charts.csv' # Загрузите данные в текущий каталог Colab.\n",
    "# filename_data = 'data/endomondoHR.json' # Загрузите данные в каталог data/  при работе в Docker.\n",
    "# Загрузите основной набор данных в фрейм данных pyspark.\n",
    "df = spark.read.csv(filename_data, mode=\"DROPMALFORMED\", header=True, inferSchema=True)\n",
    "print('Data frame type: ' + str(type(df)))"
   ]
  },
  {
   "cell_type": "code",
   "execution_count": 7,
   "metadata": {},
   "outputs": [
    {
     "name": "stdout",
     "output_type": "stream",
     "text": [
      "+--------------------+----+----------+--------------------+--------------------+---------+------+-------------+-------+\n",
      "|               title|rank|      date|              artist|                 url|   region| chart|        trend|streams|\n",
      "+--------------------+----+----------+--------------------+--------------------+---------+------+-------------+-------+\n",
      "|Chantaje (feat. M...|   1|2017-01-01|             Shakira|https://open.spot...|Argentina|top200|SAME_POSITION| 253019|\n",
      "|Vente Pa' Ca (fea...|   2|2017-01-01|        Ricky Martin|https://open.spot...|Argentina|top200|      MOVE_UP| 223988|\n",
      "|Reggaetón Lento (...|   3|2017-01-01|                CNCO|https://open.spot...|Argentina|top200|    MOVE_DOWN| 210943|\n",
      "|              Safari|   4|2017-01-01|J Balvin, Pharrel...|https://open.spot...|Argentina|top200|SAME_POSITION| 173865|\n",
      "|         Shaky Shaky|   5|2017-01-01|        Daddy Yankee|https://open.spot...|Argentina|top200|      MOVE_UP| 153956|\n",
      "|         Traicionera|   6|2017-01-01|     Sebastian Yatra|https://open.spot...|Argentina|top200|    MOVE_DOWN| 151140|\n",
      "|Cuando Se Pone a ...|   7|2017-01-01|              Rombai|https://open.spot...|Argentina|top200|    MOVE_DOWN| 148369|\n",
      "|Otra vez (feat. J...|   8|2017-01-01|       Zion & Lennox|https://open.spot...|Argentina|top200|    MOVE_DOWN| 143004|\n",
      "|        La Bicicleta|   9|2017-01-01|Carlos Vives, Sha...|https://open.spot...|Argentina|top200|      MOVE_UP| 126389|\n",
      "|Dile Que Tu Me Qu...|  10|2017-01-01|               Ozuna|https://open.spot...|Argentina|top200|    MOVE_DOWN| 112012|\n",
      "|  Andas En Mi Cabeza|  11|2017-01-01|Chino & Nacho, Da...|https://open.spot...|Argentina|top200|SAME_POSITION| 110395|\n",
      "|Desde Esa Noche (...|  12|2017-01-01|              Thalia|https://open.spot...|Argentina|top200|      MOVE_UP| 104592|\n",
      "|      Borro Cassette|  13|2017-01-01|              Maluma|https://open.spot...|Argentina|top200|      MOVE_UP| 101535|\n",
      "|Gyal You A Party ...|  14|2017-01-01|Charly Black, Dad...|https://open.spot...|Argentina|top200|    MOVE_DOWN|  99722|\n",
      "|Me llamas (feat. ...|  15|2017-01-01|             Piso 21|https://open.spot...|Argentina|top200|    MOVE_DOWN|  95010|\n",
      "|La Bicicleta (fea...|  16|2017-01-01|Carlos Vives, Sha...|https://open.spot...|Argentina|top200|      MOVE_UP|  92723|\n",
      "|DUELE EL CORAZON ...|  17|2017-01-01|    Enrique Iglesias|https://open.spot...|Argentina|top200|      MOVE_UP|  91325|\n",
      "|     Let Me Love You|  18|2017-01-01|DJ Snake, Justin ...|https://open.spot...|Argentina|top200|    MOVE_DOWN|  87926|\n",
      "|La Noche No Es pa...|  19|2017-01-01|         Mano Arriba|https://open.spot...|Argentina|top200|SAME_POSITION|  87033|\n",
      "|          Vacaciones|  20|2017-01-01|               Wisin|https://open.spot...|Argentina|top200|    MOVE_DOWN|  86103|\n",
      "+--------------------+----+----------+--------------------+--------------------+---------+------+-------------+-------+\n",
      "only showing top 20 rows\n",
      "\n"
     ]
    }
   ],
   "source": [
    "df.show()"
   ]
  },
  {
   "cell_type": "markdown",
   "metadata": {
    "id": "GxmiZJ-eICWn"
   },
   "source": [
    "# **2. Обзор набора данных** <a class=\"anchor\" id=\"2\"></a>\n",
    "\n",
    "[Go back to table of contents](#0.1)\n",
    "\n",
    "### Схема, столбцы и типы данных набора:\n",
    "   *Набор данных содержит как столбцы с одним значением (int, string), так и столбцы, состоящие из списка массивов.*"
   ]
  },
  {
   "cell_type": "code",
   "execution_count": 8,
   "metadata": {},
   "outputs": [],
   "source": [
    "from pyspark.sql.functions import col\n",
    "from pyspark.sql.types import IntegerType\n",
    "from pyspark.sql.functions import to_date\n",
    "\n",
    "df = df.withColumn(\"date\", to_date(col(\"date\"), \"yyyy-MM-dd\"))\n",
    "df = df.withColumn(\"rank\", col(\"rank\").cast(IntegerType()))\n",
    "df = df.withColumn(\"streams\", col(\"streams\").cast(IntegerType()))\n"
   ]
  },
  {
   "cell_type": "code",
   "execution_count": 9,
   "metadata": {
    "colab": {
     "base_uri": "https://localhost:8080/",
     "height": 759
    },
    "id": "VgfcdPNAICWn",
    "outputId": "f72a148e-22d8-4095-b567-64e67de43df3"
   },
   "outputs": [
    {
     "name": "stdout",
     "output_type": "stream",
     "text": [
      "Обзор данных\n",
      "root\n",
      " |-- title: string (nullable = true)\n",
      " |-- rank: integer (nullable = true)\n",
      " |-- date: date (nullable = true)\n",
      " |-- artist: string (nullable = true)\n",
      " |-- url: string (nullable = true)\n",
      " |-- region: string (nullable = true)\n",
      " |-- chart: string (nullable = true)\n",
      " |-- trend: string (nullable = true)\n",
      " |-- streams: integer (nullable = true)\n",
      "\n",
      "Обзор столбцов\n"
     ]
    },
    {
     "data": {
      "text/html": [
       "<div>\n",
       "<style scoped>\n",
       "    .dataframe tbody tr th:only-of-type {\n",
       "        vertical-align: middle;\n",
       "    }\n",
       "\n",
       "    .dataframe tbody tr th {\n",
       "        vertical-align: top;\n",
       "    }\n",
       "\n",
       "    .dataframe thead th {\n",
       "        text-align: right;\n",
       "    }\n",
       "</style>\n",
       "<table border=\"1\" class=\"dataframe\">\n",
       "  <thead>\n",
       "    <tr style=\"text-align: right;\">\n",
       "      <th></th>\n",
       "      <th>Column Name</th>\n",
       "      <th>Data type</th>\n",
       "    </tr>\n",
       "  </thead>\n",
       "  <tbody>\n",
       "    <tr>\n",
       "      <th>0</th>\n",
       "      <td>title</td>\n",
       "      <td>string</td>\n",
       "    </tr>\n",
       "    <tr>\n",
       "      <th>1</th>\n",
       "      <td>rank</td>\n",
       "      <td>int</td>\n",
       "    </tr>\n",
       "    <tr>\n",
       "      <th>2</th>\n",
       "      <td>date</td>\n",
       "      <td>date</td>\n",
       "    </tr>\n",
       "    <tr>\n",
       "      <th>3</th>\n",
       "      <td>artist</td>\n",
       "      <td>string</td>\n",
       "    </tr>\n",
       "    <tr>\n",
       "      <th>4</th>\n",
       "      <td>url</td>\n",
       "      <td>string</td>\n",
       "    </tr>\n",
       "    <tr>\n",
       "      <th>5</th>\n",
       "      <td>region</td>\n",
       "      <td>string</td>\n",
       "    </tr>\n",
       "    <tr>\n",
       "      <th>6</th>\n",
       "      <td>chart</td>\n",
       "      <td>string</td>\n",
       "    </tr>\n",
       "    <tr>\n",
       "      <th>7</th>\n",
       "      <td>trend</td>\n",
       "      <td>string</td>\n",
       "    </tr>\n",
       "    <tr>\n",
       "      <th>8</th>\n",
       "      <td>streams</td>\n",
       "      <td>int</td>\n",
       "    </tr>\n",
       "  </tbody>\n",
       "</table>\n",
       "</div>"
      ],
      "text/plain": [
       "  Column Name Data type\n",
       "0       title    string\n",
       "1        rank       int\n",
       "2        date      date\n",
       "3      artist    string\n",
       "4         url    string\n",
       "5      region    string\n",
       "6       chart    string\n",
       "7       trend    string\n",
       "8     streams       int"
      ]
     },
     "execution_count": 9,
     "metadata": {},
     "output_type": "execute_result"
    }
   ],
   "source": [
    "print('Обзор данных')\n",
    "df.printSchema()\n",
    "print('Обзор столбцов')\n",
    "pd.DataFrame(df.dtypes, columns = ['Column Name','Data type'])"
   ]
  },
  {
   "cell_type": "code",
   "execution_count": 10,
   "metadata": {
    "colab": {
     "base_uri": "https://localhost:8080/",
     "height": 475
    },
    "id": "Y-mihzL2ICWn",
    "outputId": "0e009bd6-48cc-455a-f679-50d08d6fdcc4"
   },
   "outputs": [
    {
     "name": "stdout",
     "output_type": "stream",
     "text": [
      "Описание фрейма данных (только строковые и числовые столбцы):\n"
     ]
    },
    {
     "data": {
      "text/html": [
       "<div>\n",
       "<style scoped>\n",
       "    .dataframe tbody tr th:only-of-type {\n",
       "        vertical-align: middle;\n",
       "    }\n",
       "\n",
       "    .dataframe tbody tr th {\n",
       "        vertical-align: top;\n",
       "    }\n",
       "\n",
       "    .dataframe thead th {\n",
       "        text-align: right;\n",
       "    }\n",
       "</style>\n",
       "<table border=\"1\" class=\"dataframe\">\n",
       "  <thead>\n",
       "    <tr style=\"text-align: right;\">\n",
       "      <th></th>\n",
       "      <th>summary</th>\n",
       "      <th>title</th>\n",
       "      <th>rank</th>\n",
       "      <th>artist</th>\n",
       "      <th>url</th>\n",
       "      <th>region</th>\n",
       "      <th>chart</th>\n",
       "      <th>trend</th>\n",
       "      <th>streams</th>\n",
       "    </tr>\n",
       "  </thead>\n",
       "  <tbody>\n",
       "    <tr>\n",
       "      <th>0</th>\n",
       "      <td>count</td>\n",
       "      <td>26173514</td>\n",
       "      <td>26171372</td>\n",
       "      <td>26173514</td>\n",
       "      <td>26173514</td>\n",
       "      <td>26173514</td>\n",
       "      <td>26173514</td>\n",
       "      <td>26173514</td>\n",
       "      <td>20318183</td>\n",
       "    </tr>\n",
       "    <tr>\n",
       "      <th>1</th>\n",
       "      <td>mean</td>\n",
       "      <td>Infinity</td>\n",
       "      <td>80.92462917114166</td>\n",
       "      <td>1987.9348473218754</td>\n",
       "      <td>6.642857142857143</td>\n",
       "      <td>None</td>\n",
       "      <td>None</td>\n",
       "      <td>None</td>\n",
       "      <td>55266.54339716303</td>\n",
       "    </tr>\n",
       "    <tr>\n",
       "      <th>2</th>\n",
       "      <td>stddev</td>\n",
       "      <td>NaN</td>\n",
       "      <td>59.18592706939082</td>\n",
       "      <td>15032.62146489825</td>\n",
       "      <td>9.888665950759702</td>\n",
       "      <td>None</td>\n",
       "      <td>None</td>\n",
       "      <td>None</td>\n",
       "      <td>209602.0198801989</td>\n",
       "    </tr>\n",
       "    <tr>\n",
       "      <th>3</th>\n",
       "      <td>min</td>\n",
       "      <td>!</td>\n",
       "      <td>1</td>\n",
       "      <td>K. 265\"</td>\n",
       "      <td>4</td>\n",
       "      <td>2nyce</td>\n",
       "      <td>Albert06 El Veterano\"</td>\n",
       "      <td>Balbi El Chamaco</td>\n",
       "      <td>1001</td>\n",
       "    </tr>\n",
       "    <tr>\n",
       "      <th>4</th>\n",
       "      <td>max</td>\n",
       "      <td>🪐</td>\n",
       "      <td>200</td>\n",
       "      <td>Ｍ, 兩千 2ØØØ, RedcolorG</td>\n",
       "      <td>朱哲伟</td>\n",
       "      <td>https://open.spotify.com/track/7yNZNz5AslLutGc...</td>\n",
       "      <td>viral50</td>\n",
       "      <td>viral50</td>\n",
       "      <td>19749704</td>\n",
       "    </tr>\n",
       "  </tbody>\n",
       "</table>\n",
       "</div>"
      ],
      "text/plain": [
       "  summary     title               rank                 artist  \\\n",
       "0   count  26173514           26171372               26173514   \n",
       "1    mean  Infinity  80.92462917114166     1987.9348473218754   \n",
       "2  stddev       NaN  59.18592706939082      15032.62146489825   \n",
       "3     min         !                  1                K. 265\"   \n",
       "4     max         🪐                200  Ｍ, 兩千 2ØØØ, RedcolorG   \n",
       "\n",
       "                 url                                             region  \\\n",
       "0           26173514                                           26173514   \n",
       "1  6.642857142857143                                               None   \n",
       "2  9.888665950759702                                               None   \n",
       "3                  4                                              2nyce   \n",
       "4                朱哲伟  https://open.spotify.com/track/7yNZNz5AslLutGc...   \n",
       "\n",
       "                    chart              trend            streams  \n",
       "0                26173514           26173514           20318183  \n",
       "1                    None               None  55266.54339716303  \n",
       "2                    None               None  209602.0198801989  \n",
       "3   Albert06 El Veterano\"   Balbi El Chamaco               1001  \n",
       "4                 viral50            viral50           19749704  "
      ]
     },
     "execution_count": 10,
     "metadata": {},
     "output_type": "execute_result"
    },
    {
     "name": "stdout",
     "output_type": "stream",
     "text": [
      "Общее количество 26173514 строк, печатаем несколько первых строк:\n"
     ]
    },
    {
     "data": {
      "text/html": [
       "<div>\n",
       "<style scoped>\n",
       "    .dataframe tbody tr th:only-of-type {\n",
       "        vertical-align: middle;\n",
       "    }\n",
       "\n",
       "    .dataframe tbody tr th {\n",
       "        vertical-align: top;\n",
       "    }\n",
       "\n",
       "    .dataframe thead th {\n",
       "        text-align: right;\n",
       "    }\n",
       "</style>\n",
       "<table border=\"1\" class=\"dataframe\">\n",
       "  <thead>\n",
       "    <tr style=\"text-align: right;\">\n",
       "      <th></th>\n",
       "      <th>title</th>\n",
       "      <th>rank</th>\n",
       "      <th>date</th>\n",
       "      <th>artist</th>\n",
       "      <th>url</th>\n",
       "      <th>region</th>\n",
       "      <th>chart</th>\n",
       "      <th>trend</th>\n",
       "      <th>streams</th>\n",
       "    </tr>\n",
       "  </thead>\n",
       "  <tbody>\n",
       "    <tr>\n",
       "      <th>0</th>\n",
       "      <td>Chantaje (feat. Maluma)</td>\n",
       "      <td>1</td>\n",
       "      <td>2017-01-01</td>\n",
       "      <td>Shakira</td>\n",
       "      <td>https://open.spotify.com/track/6mICuAdrwEjh6Y6...</td>\n",
       "      <td>Argentina</td>\n",
       "      <td>top200</td>\n",
       "      <td>SAME_POSITION</td>\n",
       "      <td>253019</td>\n",
       "    </tr>\n",
       "    <tr>\n",
       "      <th>1</th>\n",
       "      <td>Vente Pa' Ca (feat. Maluma)</td>\n",
       "      <td>2</td>\n",
       "      <td>2017-01-01</td>\n",
       "      <td>Ricky Martin</td>\n",
       "      <td>https://open.spotify.com/track/7DM4BPaS7uofFul...</td>\n",
       "      <td>Argentina</td>\n",
       "      <td>top200</td>\n",
       "      <td>MOVE_UP</td>\n",
       "      <td>223988</td>\n",
       "    </tr>\n",
       "  </tbody>\n",
       "</table>\n",
       "</div>"
      ],
      "text/plain": [
       "                         title  rank        date        artist  \\\n",
       "0      Chantaje (feat. Maluma)     1  2017-01-01       Shakira   \n",
       "1  Vente Pa' Ca (feat. Maluma)     2  2017-01-01  Ricky Martin   \n",
       "\n",
       "                                                 url     region   chart  \\\n",
       "0  https://open.spotify.com/track/6mICuAdrwEjh6Y6...  Argentina  top200   \n",
       "1  https://open.spotify.com/track/7DM4BPaS7uofFul...  Argentina  top200   \n",
       "\n",
       "           trend  streams  \n",
       "0  SAME_POSITION   253019  \n",
       "1        MOVE_UP   223988  "
      ]
     },
     "execution_count": 10,
     "metadata": {},
     "output_type": "execute_result"
    }
   ],
   "source": [
    "print('Описание фрейма данных (только строковые и числовые столбцы):')\n",
    "df.describe().toPandas()\n",
    "\n",
    "print(f'Общее количество {df.count()} строк, печатаем несколько первых строк:')\n",
    "df.limit(2).toPandas()"
   ]
  },
  {
   "cell_type": "markdown",
   "metadata": {
    "id": "mdQU8PbgICWn"
   },
   "source": [
    "# **3. Обнаружение пропущенных значений и аномальных нулей.** <a class=\"anchor\" id=\"3\"></a>\n",
    "\n",
    "[Go back to table of contents](#0.1)\n",
    "\n",
    "После предварительного просмотра столбцов первое, что должны проверить, — это наличие в наборе данных какого-либо пропущенного значения.\n",
    "– Для строковых столбцов  проверяем наличие `None` и `null`.\n",
    "- Для числовых столбцов проверяем наличие нулей и `NaN`.\n",
    "- Для столбцов типа массив проверяем, содержит ли массив нули или `NaN`.\n"
   ]
  },
  {
   "cell_type": "code",
   "execution_count": 11,
   "metadata": {
    "colab": {
     "base_uri": "https://localhost:8080/",
     "height": 412
    },
    "id": "_4yuDOrzICWn",
    "outputId": "71a8de72-cc86-4683-e76b-ac9869c14284"
   },
   "outputs": [
    {
     "name": "stdout",
     "output_type": "stream",
     "text": [
      "Обзор столбцов\n"
     ]
    },
    {
     "data": {
      "text/html": [
       "<div>\n",
       "<style scoped>\n",
       "    .dataframe tbody tr th:only-of-type {\n",
       "        vertical-align: middle;\n",
       "    }\n",
       "\n",
       "    .dataframe tbody tr th {\n",
       "        vertical-align: top;\n",
       "    }\n",
       "\n",
       "    .dataframe thead th {\n",
       "        text-align: right;\n",
       "    }\n",
       "</style>\n",
       "<table border=\"1\" class=\"dataframe\">\n",
       "  <thead>\n",
       "    <tr style=\"text-align: right;\">\n",
       "      <th></th>\n",
       "      <th>Column Name</th>\n",
       "      <th>Data type</th>\n",
       "    </tr>\n",
       "  </thead>\n",
       "  <tbody>\n",
       "    <tr>\n",
       "      <th>0</th>\n",
       "      <td>title</td>\n",
       "      <td>string</td>\n",
       "    </tr>\n",
       "    <tr>\n",
       "      <th>1</th>\n",
       "      <td>rank</td>\n",
       "      <td>int</td>\n",
       "    </tr>\n",
       "    <tr>\n",
       "      <th>2</th>\n",
       "      <td>date</td>\n",
       "      <td>date</td>\n",
       "    </tr>\n",
       "    <tr>\n",
       "      <th>3</th>\n",
       "      <td>artist</td>\n",
       "      <td>string</td>\n",
       "    </tr>\n",
       "    <tr>\n",
       "      <th>4</th>\n",
       "      <td>url</td>\n",
       "      <td>string</td>\n",
       "    </tr>\n",
       "    <tr>\n",
       "      <th>5</th>\n",
       "      <td>region</td>\n",
       "      <td>string</td>\n",
       "    </tr>\n",
       "    <tr>\n",
       "      <th>6</th>\n",
       "      <td>chart</td>\n",
       "      <td>string</td>\n",
       "    </tr>\n",
       "    <tr>\n",
       "      <th>7</th>\n",
       "      <td>trend</td>\n",
       "      <td>string</td>\n",
       "    </tr>\n",
       "    <tr>\n",
       "      <th>8</th>\n",
       "      <td>streams</td>\n",
       "      <td>int</td>\n",
       "    </tr>\n",
       "  </tbody>\n",
       "</table>\n",
       "</div>"
      ],
      "text/plain": [
       "  Column Name Data type\n",
       "0       title    string\n",
       "1        rank       int\n",
       "2        date      date\n",
       "3      artist    string\n",
       "4         url    string\n",
       "5      region    string\n",
       "6       chart    string\n",
       "7       trend    string\n",
       "8     streams       int"
      ]
     },
     "execution_count": 11,
     "metadata": {},
     "output_type": "execute_result"
    }
   ],
   "source": [
    "print('Обзор столбцов')\n",
    "pd.DataFrame(df.dtypes, columns = ['Column Name','Data type'])"
   ]
  },
  {
   "cell_type": "code",
   "execution_count": 12,
   "metadata": {
    "colab": {
     "base_uri": "https://localhost:8080/",
     "height": 81
    },
    "id": "eW2ia5B6ICWo",
    "outputId": "9692004f-7886-4b0c-a189-ccdab65e70eb"
   },
   "outputs": [
    {
     "data": {
      "text/html": [
       "<div>\n",
       "<style scoped>\n",
       "    .dataframe tbody tr th:only-of-type {\n",
       "        vertical-align: middle;\n",
       "    }\n",
       "\n",
       "    .dataframe tbody tr th {\n",
       "        vertical-align: top;\n",
       "    }\n",
       "\n",
       "    .dataframe thead th {\n",
       "        text-align: right;\n",
       "    }\n",
       "</style>\n",
       "<table border=\"1\" class=\"dataframe\">\n",
       "  <thead>\n",
       "    <tr style=\"text-align: right;\">\n",
       "      <th></th>\n",
       "      <th>title</th>\n",
       "      <th>rank</th>\n",
       "      <th>artist</th>\n",
       "      <th>url</th>\n",
       "      <th>region</th>\n",
       "      <th>chart</th>\n",
       "      <th>trend</th>\n",
       "      <th>streams</th>\n",
       "    </tr>\n",
       "  </thead>\n",
       "  <tbody>\n",
       "    <tr>\n",
       "      <th>0</th>\n",
       "      <td>0</td>\n",
       "      <td>0</td>\n",
       "      <td>0</td>\n",
       "      <td>0</td>\n",
       "      <td>0</td>\n",
       "      <td>0</td>\n",
       "      <td>0</td>\n",
       "      <td>0</td>\n",
       "    </tr>\n",
       "  </tbody>\n",
       "</table>\n",
       "</div>"
      ],
      "text/plain": [
       "   title  rank  artist  url  region  chart  trend  streams\n",
       "0      0     0       0    0       0      0      0        0"
      ]
     },
     "execution_count": 12,
     "metadata": {},
     "output_type": "execute_result"
    }
   ],
   "source": [
    "string_columns = ['title', 'artist', 'url', 'region', 'chart', 'trend']\n",
    "numeric_columns = ['rank','streams']\n",
    "missing_values = {}\n",
    "for index, column in enumerate(df.columns):\n",
    "    if column in string_columns:    # проверить столбцы строк со значениями None и Null\n",
    "#         missing_count = df.filter(col(column).eqNullSafe(None) | col(column).isNull()).count()\n",
    "#         missing_values.update({column: missing_count})\n",
    "        missing_count = df.filter(col(column).eqNullSafe(None) | col(column).isNull()).count()\n",
    "        missing_values.update({column:missing_count})\n",
    "    if column in numeric_columns:  # check zeroes, None, NaN\n",
    "        missing_count = df.where(col(column).isin([0,None,np.nan])).count()\n",
    "        missing_values.update({column:missing_count})\n",
    "missing_df = pd.DataFrame.from_dict([missing_values])\n",
    "missing_df"
   ]
  },
  {
   "cell_type": "markdown",
   "metadata": {
    "id": "-M2AqH0-ICWo"
   },
   "source": [
    "# **4. Ленивая оценка Pyspark** <a class=\"anchor\" id=\"4\"></a>\n",
    "\n",
    "[Go back to table of contents](#0.1)\n",
    "\n",
    "Здесь мы начнем знакомиться с некоторыми функциями продвинутого `Spark`: **Ленивая оценка**.\n",
    "\n",
    "<font color=\"red\"><b>Ленивая оценка</b></font> расширяет возможности Apache Spark за счет сокращения времени выполнения операций RDD. Он поддерживает граф происхождения для запоминания операций над RDD. мы можем просто помнить, что вся обработка в Pyspark — это абстракция. Когда мы хотим вернуть результаты, мы на самом деле сообщаем Spark, какой конечный ответ вас интересует, и он определяет лучший способ получить его. В результате это оптимизирует производительность и обеспечивает отказоустойчивость.\n",
    "\n",
    "Чтобы увидеть результат, нам нужно вызвать `Spark.collect()`.\n",
    "\n",
    "Обычно можем показать результаты с помощью синтаксиса: `df.take(k)` или `df.limit(k)`, чтобы получить результаты с `k`-строкой.\n",
    "\n",
    "Когда `K` становится большим числом, выполнение этих двух способов, описанных выше, занимает много времени. Потому что приведенный выше синтаксис не использовал возможности обработки `Pyspark` (ленивая оценка).\n",
    "Чтобы быстро обработать, требуется использовать `df.collect()[:k]` для возврата строки `k`, которая нам требуется.\n",
    "\n",
    "Подробнее о ленивых вычислениях `Pyspark` можно прочитать в статье : https://data-flair.training/blogs/apache-spark-lazy-evaluation/"
   ]
  },
  {
   "cell_type": "code",
   "execution_count": 13,
   "metadata": {
    "id": "yRgRwYtyICWp"
   },
   "outputs": [],
   "source": [
    "from pyspark.sql.functions import count\n",
    "\n",
    "# Преобразуем \"streams\" в миллионы\n",
    "df_transformed = df.withColumn(\"streams_millions\", col(\"streams\") / 1000000)\n",
    "\n",
    "# Фильтруем по чарту\n",
    "df_filtered = df_transformed.filter(col(\"chart\") == \"top200\")\n",
    "\n",
    "# Группируем по региону\n",
    "df_grouped = df_filtered.groupBy(\"region\").agg(count(\"title\").alias(\"total_songs\"))  "
   ]
  },
  {
   "cell_type": "code",
   "execution_count": 14,
   "metadata": {
    "colab": {
     "base_uri": "https://localhost:8080/"
    },
    "id": "gZaCrackICWp",
    "outputId": "e077c960-6af5-4c3a-aa1f-24b0c838fc4b"
   },
   "outputs": [
    {
     "data": {
      "text/plain": [
       "[Row(region='Paraguay', total_songs=336666),\n",
       " Row(region='Sweden', total_songs=358384),\n",
       " Row(region='Philippines', total_songs=358390),\n",
       " Row(region='Malaysia', total_songs=358390),\n",
       " Row(region='Singapore', total_songs=358388)]"
      ]
     },
     "execution_count": 14,
     "metadata": {},
     "output_type": "execute_result"
    }
   ],
   "source": [
    "df_grouped.collect()[:5]"
   ]
  },
  {
   "cell_type": "code",
   "execution_count": 15,
   "metadata": {},
   "outputs": [],
   "source": [
    "from pyspark.sql.functions import sum\n",
    "\n",
    "# Фильтруем артистов по количеству прослушиваний\n",
    "artisits_by_streams = df_transformed.groupBy(\"artist\") \\\n",
    "                                          .agg(sum(\"streams\").alias(\"total_streams\")) \\\n",
    "                                          .orderBy(\"total_streams\", ascending=False)\n",
    "\n",
    "# Выделение топ 20 артистов по прослушиваням\n",
    "top_20_artisits_by_streams = artisits_by_streams.limit(20).toPandas()\n",
    "\n",
    "# Для далнейшего вычисления процента\n",
    "total_artisits_by_streams = artisits_by_streams.groupBy().sum().collect()[0][0]"
   ]
  },
  {
   "cell_type": "code",
   "execution_count": 16,
   "metadata": {},
   "outputs": [
    {
     "data": {
      "text/plain": [
       "[Row(artist='Ed Sheeran', total_streams=23595661934),\n",
       " Row(artist='Post Malone', total_streams=19452753354),\n",
       " Row(artist='Drake', total_streams=18180639343),\n",
       " Row(artist='Billie Eilish', total_streams=17193796480),\n",
       " Row(artist='Ariana Grande', total_streams=15375848331),\n",
       " Row(artist='Dua Lipa', total_streams=12147106434),\n",
       " Row(artist='Juice WRLD', total_streams=12133081886),\n",
       " Row(artist='XXXTENTACION', total_streams=12071900406),\n",
       " Row(artist='The Weeknd', total_streams=12042803794),\n",
       " Row(artist='Olivia Rodrigo', total_streams=9517652325),\n",
       " Row(artist='Travis Scott', total_streams=9291822703),\n",
       " Row(artist='Justin Bieber', total_streams=9239499887),\n",
       " Row(artist='Bad Bunny', total_streams=8859643251),\n",
       " Row(artist='Taylor Swift', total_streams=8054414076),\n",
       " Row(artist='Lil Nas X', total_streams=7668590857),\n",
       " Row(artist='Imagine Dragons', total_streams=7571080671),\n",
       " Row(artist='Doja Cat', total_streams=7225519186),\n",
       " Row(artist='Harry Styles', total_streams=7083410703),\n",
       " Row(artist='Lewis Capaldi', total_streams=6807327709),\n",
       " Row(artist='BTS', total_streams=6805965964)]"
      ]
     },
     "execution_count": 16,
     "metadata": {},
     "output_type": "execute_result"
    }
   ],
   "source": [
    "artisits_by_streams.collect()[:20]"
   ]
  },
  {
   "cell_type": "markdown",
   "metadata": {
    "id": "8iNOq25kICWp"
   },
   "source": [
    "# **5. Исследовательский анализ данных** <a class=\"anchor\" id=\"5\"></a>\n",
    "\n",
    "[Go back to table of contents](#0.1)\n",
    "\n",
    "Давайте сначала составим таблицу, указав 5 лучших типов тренировок, которые мы оценили выше."
   ]
  },
  {
   "cell_type": "code",
   "execution_count": 17,
   "metadata": {},
   "outputs": [
    {
     "name": "stdout",
     "output_type": "stream",
     "text": [
      "Топ-20 артистов по прослушиваням:\n"
     ]
    },
    {
     "data": {
      "text/html": [
       "<div>\n",
       "<style scoped>\n",
       "    .dataframe tbody tr th:only-of-type {\n",
       "        vertical-align: middle;\n",
       "    }\n",
       "\n",
       "    .dataframe tbody tr th {\n",
       "        vertical-align: top;\n",
       "    }\n",
       "\n",
       "    .dataframe thead th {\n",
       "        text-align: right;\n",
       "    }\n",
       "</style>\n",
       "<table border=\"1\" class=\"dataframe\">\n",
       "  <thead>\n",
       "    <tr style=\"text-align: right;\">\n",
       "      <th></th>\n",
       "      <th>artist</th>\n",
       "      <th>total_streams</th>\n",
       "      <th>percentage</th>\n",
       "    </tr>\n",
       "  </thead>\n",
       "  <tbody>\n",
       "    <tr>\n",
       "      <th>0</th>\n",
       "      <td>Ed Sheeran</td>\n",
       "      <td>23595661934</td>\n",
       "      <td>2.101285</td>\n",
       "    </tr>\n",
       "    <tr>\n",
       "      <th>1</th>\n",
       "      <td>Post Malone</td>\n",
       "      <td>19452753354</td>\n",
       "      <td>1.732343</td>\n",
       "    </tr>\n",
       "    <tr>\n",
       "      <th>2</th>\n",
       "      <td>Drake</td>\n",
       "      <td>18180639343</td>\n",
       "      <td>1.619056</td>\n",
       "    </tr>\n",
       "    <tr>\n",
       "      <th>3</th>\n",
       "      <td>Billie Eilish</td>\n",
       "      <td>17193796480</td>\n",
       "      <td>1.531174</td>\n",
       "    </tr>\n",
       "    <tr>\n",
       "      <th>4</th>\n",
       "      <td>Ariana Grande</td>\n",
       "      <td>15375848331</td>\n",
       "      <td>1.369279</td>\n",
       "    </tr>\n",
       "    <tr>\n",
       "      <th>5</th>\n",
       "      <td>Dua Lipa</td>\n",
       "      <td>12147106434</td>\n",
       "      <td>1.081747</td>\n",
       "    </tr>\n",
       "    <tr>\n",
       "      <th>6</th>\n",
       "      <td>Juice WRLD</td>\n",
       "      <td>12133081886</td>\n",
       "      <td>1.080498</td>\n",
       "    </tr>\n",
       "    <tr>\n",
       "      <th>7</th>\n",
       "      <td>XXXTENTACION</td>\n",
       "      <td>12071900406</td>\n",
       "      <td>1.075050</td>\n",
       "    </tr>\n",
       "    <tr>\n",
       "      <th>8</th>\n",
       "      <td>The Weeknd</td>\n",
       "      <td>12042803794</td>\n",
       "      <td>1.072458</td>\n",
       "    </tr>\n",
       "    <tr>\n",
       "      <th>9</th>\n",
       "      <td>Olivia Rodrigo</td>\n",
       "      <td>9517652325</td>\n",
       "      <td>0.847584</td>\n",
       "    </tr>\n",
       "    <tr>\n",
       "      <th>10</th>\n",
       "      <td>Travis Scott</td>\n",
       "      <td>9291822703</td>\n",
       "      <td>0.827473</td>\n",
       "    </tr>\n",
       "    <tr>\n",
       "      <th>11</th>\n",
       "      <td>Justin Bieber</td>\n",
       "      <td>9239499887</td>\n",
       "      <td>0.822813</td>\n",
       "    </tr>\n",
       "    <tr>\n",
       "      <th>12</th>\n",
       "      <td>Bad Bunny</td>\n",
       "      <td>8859643251</td>\n",
       "      <td>0.788986</td>\n",
       "    </tr>\n",
       "    <tr>\n",
       "      <th>13</th>\n",
       "      <td>Taylor Swift</td>\n",
       "      <td>8054414076</td>\n",
       "      <td>0.717277</td>\n",
       "    </tr>\n",
       "    <tr>\n",
       "      <th>14</th>\n",
       "      <td>Lil Nas X</td>\n",
       "      <td>7668590857</td>\n",
       "      <td>0.682918</td>\n",
       "    </tr>\n",
       "    <tr>\n",
       "      <th>15</th>\n",
       "      <td>Imagine Dragons</td>\n",
       "      <td>7571080671</td>\n",
       "      <td>0.674234</td>\n",
       "    </tr>\n",
       "    <tr>\n",
       "      <th>16</th>\n",
       "      <td>Doja Cat</td>\n",
       "      <td>7225519186</td>\n",
       "      <td>0.643460</td>\n",
       "    </tr>\n",
       "    <tr>\n",
       "      <th>17</th>\n",
       "      <td>Harry Styles</td>\n",
       "      <td>7083410703</td>\n",
       "      <td>0.630805</td>\n",
       "    </tr>\n",
       "    <tr>\n",
       "      <th>18</th>\n",
       "      <td>Lewis Capaldi</td>\n",
       "      <td>6807327709</td>\n",
       "      <td>0.606219</td>\n",
       "    </tr>\n",
       "    <tr>\n",
       "      <th>19</th>\n",
       "      <td>BTS</td>\n",
       "      <td>6805965964</td>\n",
       "      <td>0.606098</td>\n",
       "    </tr>\n",
       "    <tr>\n",
       "      <th>20</th>\n",
       "      <td>others</td>\n",
       "      <td>892597223227</td>\n",
       "      <td>79.489243</td>\n",
       "    </tr>\n",
       "  </tbody>\n",
       "</table>\n",
       "</div>"
      ],
      "text/plain": [
       "             artist  total_streams  percentage\n",
       "0        Ed Sheeran    23595661934    2.101285\n",
       "1       Post Malone    19452753354    1.732343\n",
       "2             Drake    18180639343    1.619056\n",
       "3     Billie Eilish    17193796480    1.531174\n",
       "4     Ariana Grande    15375848331    1.369279\n",
       "5          Dua Lipa    12147106434    1.081747\n",
       "6        Juice WRLD    12133081886    1.080498\n",
       "7      XXXTENTACION    12071900406    1.075050\n",
       "8        The Weeknd    12042803794    1.072458\n",
       "9    Olivia Rodrigo     9517652325    0.847584\n",
       "10     Travis Scott     9291822703    0.827473\n",
       "11    Justin Bieber     9239499887    0.822813\n",
       "12        Bad Bunny     8859643251    0.788986\n",
       "13     Taylor Swift     8054414076    0.717277\n",
       "14        Lil Nas X     7668590857    0.682918\n",
       "15  Imagine Dragons     7571080671    0.674234\n",
       "16         Doja Cat     7225519186    0.643460\n",
       "17     Harry Styles     7083410703    0.630805\n",
       "18    Lewis Capaldi     6807327709    0.606219\n",
       "19              BTS     6805965964    0.606098\n",
       "20           others   892597223227   79.489243"
      ]
     },
     "execution_count": 17,
     "metadata": {},
     "output_type": "execute_result"
    }
   ],
   "source": [
    "artisits_by_streams_df_renamed = top_20_artisits_by_streams\n",
    "# Вычислите процент пяти самых популярных типов тренировок от общего числа пользователей\n",
    "artisits_by_streams_df_renamed['percentage'] = artisits_by_streams_df_renamed['total_streams'] \\\n",
    "    / total_artisits_by_streams * 100\n",
    "\n",
    "# Мы относим остальных пользователей к другой конкретной группе, которую мы назовем 'others'\n",
    "others = {\n",
    "      'artist': 'others'\n",
    "    , 'total_streams': total_artisits_by_streams - artisits_by_streams_df_renamed['total_streams'].sum()\n",
    "    , 'percentage': 100 - artisits_by_streams_df_renamed['percentage'].sum()\n",
    "}\n",
    "\n",
    "df_others = pd.DataFrame([others])\n",
    "\n",
    "artisits_by_streams_df_renamed = pd.concat([artisits_by_streams_df_renamed,df_others], ignore_index=True\n",
    ")\n",
    "print('Топ-20 артистов по прослушиваням:')\n",
    "artisits_by_streams_df_renamed"
   ]
  },
  {
   "cell_type": "code",
   "execution_count": 18,
   "metadata": {
    "colab": {
     "base_uri": "https://localhost:8080/",
     "height": 899
    },
    "id": "-p1dwgQVICWp",
    "outputId": "60b6124e-6ec3-4809-8e73-614d33f611f6"
   },
   "outputs": [
    {
     "name": "stderr",
     "output_type": "stream",
     "text": [
      "/tmp/ipykernel_108/2268239695.py:8: UserWarning: set_ticklabels() should only be used with a fixed number of ticks, i.e. after set_ticks() or using a FixedLocator.\n",
      "  xsticks_label = axs[0].set_xticklabels(artisits_by_streams_df_renamed['artist']\n"
     ]
    },
    {
     "data": {
      "image/png": "[encoded data removed]",
      "text/plain": [
       "<Figure size 1371.43x480 with 2 Axes>"
      ]
     },
     "metadata": {},
     "output_type": "display_data"
    }
   ],
   "source": [
    "fig, axs = plt.subplots(nrows=1, ncols=2, figsize=plt.figaspect(0.35))\n",
    "\n",
    "plot0 =   axs[0].bar(x=artisits_by_streams_df_renamed['artist']\n",
    "                     , height=artisits_by_streams_df_renamed['total_streams'])\n",
    "title0 =  axs[0].set_title('Прослушивания по артистам', fontsize = 'small')\n",
    "xlabel0 = axs[0].set_xlabel('Артист', fontsize = 'small')\n",
    "ylabel0 = axs[0].set_ylabel('Количество прослушиваний', fontsize = 'small')\n",
    "xsticks_label = axs[0].set_xticklabels(artisits_by_streams_df_renamed['artist']\n",
    "                                       ,rotation = 'vertical', fontsize='small')\n",
    "explode = (0.1, 0.1, 0.1, 0.1, 0.1, 0.1, 0.1, 0.1, 0.1, 0.1, 0.1, 0.1, 0.1, 0.1, 0.1, 0.1, 0.1, 0.1, 0.1, 0.1, 0.1)\n",
    "title1 = axs[1].set_title('Прослушивания по артистам', fontsize = 'small')\n",
    "plot1 = axs[1].pie(\n",
    "      x=artisits_by_streams_df_renamed['percentage']\n",
    "    , labels=artisits_by_streams_df_renamed['artist']\n",
    "    , autopct='%1.1f%%', shadow=True, explode=explode, startangle=90\n",
    "    , radius=1\n",
    ")\n",
    "\n",
    "text = fig.text(0.5, 1.02, 'Топ-20 артистов по прослушиваниям по версии SPotify', ha='center', va='top', transform=fig.transFigure)"
   ]
  },
  {
   "cell_type": "markdown",
   "metadata": {
    "id": "dYFG1MJiICWp"
   },
   "source": [
    "Данные показывают, что ˜20% всех прослушиваний приходятся на 20 артистов"
   ]
  },
  {
   "cell_type": "code",
   "execution_count": 19,
   "metadata": {
    "colab": {
     "base_uri": "https://localhost:8080/",
     "height": 206
    },
    "id": "IHJNAOZCICWp",
    "outputId": "5f7e8ebc-8e52-464e-d71d-bffca05d0c1f"
   },
   "outputs": [
    {
     "name": "stderr",
     "output_type": "stream",
     "text": [
      "ERROR:root:Exception while sending command.\n",
      "Traceback (most recent call last):\n",
      "  File \"/usr/local/spark/python/lib/py4j-0.10.9.7-src.zip/py4j/clientserver.py\", line 516, in send_command\n",
      "    raise Py4JNetworkError(\"Answer from Java side is empty\")\n",
      "py4j.protocol.Py4JNetworkError: Answer from Java side is empty\n",
      "\n",
      "During handling of the above exception, another exception occurred:\n",
      "\n",
      "Traceback (most recent call last):\n",
      "  File \"/usr/local/spark/python/lib/py4j-0.10.9.7-src.zip/py4j/java_gateway.py\", line 1038, in send_command\n",
      "    response = connection.send_command(command)\n",
      "               ^^^^^^^^^^^^^^^^^^^^^^^^^^^^^^^^\n",
      "  File \"/usr/local/spark/python/lib/py4j-0.10.9.7-src.zip/py4j/clientserver.py\", line 539, in send_command\n",
      "    raise Py4JNetworkError(\n",
      "py4j.protocol.Py4JNetworkError: Error while sending or receiving\n"
     ]
    },
    {
     "ename": "ConnectionRefusedError",
     "evalue": "[Errno 111] Connection refused",
     "output_type": "error",
     "traceback": [
      "\u001b[0;31m---------------------------------------------------------------------------\u001b[0m",
      "\u001b[0;31mPy4JError\u001b[0m                                 Traceback (most recent call last)",
      "File \u001b[0;32m/usr/local/spark/python/pyspark/sql/dataframe.py:1257\u001b[0m, in \u001b[0;36mDataFrame.collect\u001b[0;34m(self)\u001b[0m\n\u001b[1;32m   1256\u001b[0m \u001b[38;5;28;01mwith\u001b[39;00m SCCallSiteSync(\u001b[38;5;28mself\u001b[39m\u001b[38;5;241m.\u001b[39m_sc):\n\u001b[0;32m-> 1257\u001b[0m     sock_info \u001b[38;5;241m=\u001b[39m \u001b[38;5;28;43mself\u001b[39;49m\u001b[38;5;241;43m.\u001b[39;49m\u001b[43m_jdf\u001b[49m\u001b[38;5;241;43m.\u001b[39;49m\u001b[43mcollectToPython\u001b[49m\u001b[43m(\u001b[49m\u001b[43m)\u001b[49m\n\u001b[1;32m   1258\u001b[0m \u001b[38;5;28;01mreturn\u001b[39;00m \u001b[38;5;28mlist\u001b[39m(_load_from_socket(sock_info, BatchedSerializer(CPickleSerializer())))\n",
      "File \u001b[0;32m/usr/local/spark/python/lib/py4j-0.10.9.7-src.zip/py4j/java_gateway.py:1322\u001b[0m, in \u001b[0;36mJavaMember.__call__\u001b[0;34m(self, *args)\u001b[0m\n\u001b[1;32m   1321\u001b[0m answer \u001b[38;5;241m=\u001b[39m \u001b[38;5;28mself\u001b[39m\u001b[38;5;241m.\u001b[39mgateway_client\u001b[38;5;241m.\u001b[39msend_command(command)\n\u001b[0;32m-> 1322\u001b[0m return_value \u001b[38;5;241m=\u001b[39m \u001b[43mget_return_value\u001b[49m\u001b[43m(\u001b[49m\n\u001b[1;32m   1323\u001b[0m \u001b[43m    \u001b[49m\u001b[43manswer\u001b[49m\u001b[43m,\u001b[49m\u001b[43m \u001b[49m\u001b[38;5;28;43mself\u001b[39;49m\u001b[38;5;241;43m.\u001b[39;49m\u001b[43mgateway_client\u001b[49m\u001b[43m,\u001b[49m\u001b[43m \u001b[49m\u001b[38;5;28;43mself\u001b[39;49m\u001b[38;5;241;43m.\u001b[39;49m\u001b[43mtarget_id\u001b[49m\u001b[43m,\u001b[49m\u001b[43m \u001b[49m\u001b[38;5;28;43mself\u001b[39;49m\u001b[38;5;241;43m.\u001b[39;49m\u001b[43mname\u001b[49m\u001b[43m)\u001b[49m\n\u001b[1;32m   1325\u001b[0m \u001b[38;5;28;01mfor\u001b[39;00m temp_arg \u001b[38;5;129;01min\u001b[39;00m temp_args:\n",
      "File \u001b[0;32m/usr/local/spark/python/pyspark/errors/exceptions/captured.py:179\u001b[0m, in \u001b[0;36mcapture_sql_exception.<locals>.deco\u001b[0;34m(*a, **kw)\u001b[0m\n\u001b[1;32m    178\u001b[0m \u001b[38;5;28;01mtry\u001b[39;00m:\n\u001b[0;32m--> 179\u001b[0m     \u001b[38;5;28;01mreturn\u001b[39;00m \u001b[43mf\u001b[49m\u001b[43m(\u001b[49m\u001b[38;5;241;43m*\u001b[39;49m\u001b[43ma\u001b[49m\u001b[43m,\u001b[49m\u001b[43m \u001b[49m\u001b[38;5;241;43m*\u001b[39;49m\u001b[38;5;241;43m*\u001b[39;49m\u001b[43mkw\u001b[49m\u001b[43m)\u001b[49m\n\u001b[1;32m    180\u001b[0m \u001b[38;5;28;01mexcept\u001b[39;00m Py4JJavaError \u001b[38;5;28;01mas\u001b[39;00m e:\n",
      "File \u001b[0;32m/usr/local/spark/python/lib/py4j-0.10.9.7-src.zip/py4j/protocol.py:334\u001b[0m, in \u001b[0;36mget_return_value\u001b[0;34m(answer, gateway_client, target_id, name)\u001b[0m\n\u001b[1;32m    333\u001b[0m     \u001b[38;5;28;01melse\u001b[39;00m:\n\u001b[0;32m--> 334\u001b[0m         \u001b[38;5;28;01mraise\u001b[39;00m Py4JError(\n\u001b[1;32m    335\u001b[0m             \u001b[38;5;124m\"\u001b[39m\u001b[38;5;124mAn error occurred while calling \u001b[39m\u001b[38;5;132;01m{0}\u001b[39;00m\u001b[38;5;132;01m{1}\u001b[39;00m\u001b[38;5;132;01m{2}\u001b[39;00m\u001b[38;5;124m\"\u001b[39m\u001b[38;5;241m.\u001b[39m\n\u001b[1;32m    336\u001b[0m             \u001b[38;5;28mformat\u001b[39m(target_id, \u001b[38;5;124m\"\u001b[39m\u001b[38;5;124m.\u001b[39m\u001b[38;5;124m\"\u001b[39m, name))\n\u001b[1;32m    337\u001b[0m \u001b[38;5;28;01melse\u001b[39;00m:\n",
      "\u001b[0;31mPy4JError\u001b[0m: An error occurred while calling o180.collectToPython",
      "\nDuring handling of the above exception, another exception occurred:\n",
      "\u001b[0;31mConnectionRefusedError\u001b[0m                    Traceback (most recent call last)",
      "Cell \u001b[0;32mIn[19], line 2\u001b[0m\n\u001b[1;32m      1\u001b[0m \u001b[38;5;66;03m# Просмотр данных по виду артисту и региону\u001b[39;00m\n\u001b[0;32m----> 2\u001b[0m regions_by_artist \u001b[38;5;241m=\u001b[39m \u001b[43mdf\u001b[49m\u001b[38;5;241;43m.\u001b[39;49m\u001b[43mgroupBy\u001b[49m\u001b[43m(\u001b[49m\u001b[38;5;124;43m'\u001b[39;49m\u001b[38;5;124;43mregion\u001b[39;49m\u001b[38;5;124;43m'\u001b[39;49m\u001b[43m,\u001b[49m\u001b[43m \u001b[49m\u001b[38;5;124;43m'\u001b[39;49m\u001b[38;5;124;43martist\u001b[39;49m\u001b[38;5;124;43m'\u001b[39;49m\u001b[43m)\u001b[49m\u001b[38;5;241;43m.\u001b[39;49m\u001b[43mcount\u001b[49m\u001b[43m(\u001b[49m\u001b[43m)\u001b[49m\u001b[38;5;241;43m.\u001b[39;49m\u001b[43mtoPandas\u001b[49m\u001b[43m(\u001b[49m\u001b[43m)\u001b[49m\n\u001b[1;32m      3\u001b[0m regions_by_artist[:\u001b[38;5;241m5\u001b[39m]\n",
      "File \u001b[0;32m/usr/local/spark/python/pyspark/sql/pandas/conversion.py:202\u001b[0m, in \u001b[0;36mPandasConversionMixin.toPandas\u001b[0;34m(self)\u001b[0m\n\u001b[1;32m    199\u001b[0m             \u001b[38;5;28;01mraise\u001b[39;00m\n\u001b[1;32m    201\u001b[0m \u001b[38;5;66;03m# Below is toPandas without Arrow optimization.\u001b[39;00m\n\u001b[0;32m--> 202\u001b[0m rows \u001b[38;5;241m=\u001b[39m \u001b[38;5;28;43mself\u001b[39;49m\u001b[38;5;241;43m.\u001b[39;49m\u001b[43mcollect\u001b[49m\u001b[43m(\u001b[49m\u001b[43m)\u001b[49m\n\u001b[1;32m    203\u001b[0m \u001b[38;5;28;01mif\u001b[39;00m \u001b[38;5;28mlen\u001b[39m(rows) \u001b[38;5;241m>\u001b[39m \u001b[38;5;241m0\u001b[39m:\n\u001b[1;32m    204\u001b[0m     pdf \u001b[38;5;241m=\u001b[39m pd\u001b[38;5;241m.\u001b[39mDataFrame\u001b[38;5;241m.\u001b[39mfrom_records(\n\u001b[1;32m    205\u001b[0m         rows, index\u001b[38;5;241m=\u001b[39m\u001b[38;5;28mrange\u001b[39m(\u001b[38;5;28mlen\u001b[39m(rows)), columns\u001b[38;5;241m=\u001b[39m\u001b[38;5;28mself\u001b[39m\u001b[38;5;241m.\u001b[39mcolumns  \u001b[38;5;66;03m# type: ignore[arg-type]\u001b[39;00m\n\u001b[1;32m    206\u001b[0m     )\n",
      "File \u001b[0;32m/usr/local/spark/python/pyspark/sql/dataframe.py:1256\u001b[0m, in \u001b[0;36mDataFrame.collect\u001b[0;34m(self)\u001b[0m\n\u001b[1;32m   1236\u001b[0m \u001b[38;5;28;01mdef\u001b[39;00m \u001b[38;5;21mcollect\u001b[39m(\u001b[38;5;28mself\u001b[39m) \u001b[38;5;241m-\u001b[39m\u001b[38;5;241m>\u001b[39m List[Row]:\n\u001b[1;32m   1237\u001b[0m \u001b[38;5;250m    \u001b[39m\u001b[38;5;124;03m\"\"\"Returns all the records as a list of :class:`Row`.\u001b[39;00m\n\u001b[1;32m   1238\u001b[0m \n\u001b[1;32m   1239\u001b[0m \u001b[38;5;124;03m    .. versionadded:: 1.3.0\u001b[39;00m\n\u001b[0;32m   (...)\u001b[0m\n\u001b[1;32m   1254\u001b[0m \u001b[38;5;124;03m    [Row(age=14, name='Tom'), Row(age=23, name='Alice'), Row(age=16, name='Bob')]\u001b[39;00m\n\u001b[1;32m   1255\u001b[0m \u001b[38;5;124;03m    \"\"\"\u001b[39;00m\n\u001b[0;32m-> 1256\u001b[0m \u001b[43m    \u001b[49m\u001b[38;5;28;43;01mwith\u001b[39;49;00m\u001b[43m \u001b[49m\u001b[43mSCCallSiteSync\u001b[49m\u001b[43m(\u001b[49m\u001b[38;5;28;43mself\u001b[39;49m\u001b[38;5;241;43m.\u001b[39;49m\u001b[43m_sc\u001b[49m\u001b[43m)\u001b[49m\u001b[43m:\u001b[49m\n\u001b[1;32m   1257\u001b[0m \u001b[43m        \u001b[49m\u001b[43msock_info\u001b[49m\u001b[43m \u001b[49m\u001b[38;5;241;43m=\u001b[39;49m\u001b[43m \u001b[49m\u001b[38;5;28;43mself\u001b[39;49m\u001b[38;5;241;43m.\u001b[39;49m\u001b[43m_jdf\u001b[49m\u001b[38;5;241;43m.\u001b[39;49m\u001b[43mcollectToPython\u001b[49m\u001b[43m(\u001b[49m\u001b[43m)\u001b[49m\n\u001b[1;32m   1258\u001b[0m     \u001b[38;5;28;01mreturn\u001b[39;00m \u001b[38;5;28mlist\u001b[39m(_load_from_socket(sock_info, BatchedSerializer(CPickleSerializer())))\n",
      "File \u001b[0;32m/usr/local/spark/python/pyspark/traceback_utils.py:81\u001b[0m, in \u001b[0;36mSCCallSiteSync.__exit__\u001b[0;34m(self, type, value, tb)\u001b[0m\n\u001b[1;32m     79\u001b[0m SCCallSiteSync\u001b[38;5;241m.\u001b[39m_spark_stack_depth \u001b[38;5;241m-\u001b[39m\u001b[38;5;241m=\u001b[39m \u001b[38;5;241m1\u001b[39m\n\u001b[1;32m     80\u001b[0m \u001b[38;5;28;01mif\u001b[39;00m SCCallSiteSync\u001b[38;5;241m.\u001b[39m_spark_stack_depth \u001b[38;5;241m==\u001b[39m \u001b[38;5;241m0\u001b[39m:\n\u001b[0;32m---> 81\u001b[0m     \u001b[38;5;28;43mself\u001b[39;49m\u001b[38;5;241;43m.\u001b[39;49m\u001b[43m_context\u001b[49m\u001b[38;5;241;43m.\u001b[39;49m\u001b[43m_jsc\u001b[49m\u001b[38;5;241;43m.\u001b[39;49m\u001b[43msetCallSite\u001b[49m\u001b[43m(\u001b[49m\u001b[38;5;28;43;01mNone\u001b[39;49;00m\u001b[43m)\u001b[49m\n",
      "File \u001b[0;32m/usr/local/spark/python/lib/py4j-0.10.9.7-src.zip/py4j/java_gateway.py:1321\u001b[0m, in \u001b[0;36mJavaMember.__call__\u001b[0;34m(self, *args)\u001b[0m\n\u001b[1;32m   1314\u001b[0m args_command, temp_args \u001b[38;5;241m=\u001b[39m \u001b[38;5;28mself\u001b[39m\u001b[38;5;241m.\u001b[39m_build_args(\u001b[38;5;241m*\u001b[39margs)\n\u001b[1;32m   1316\u001b[0m command \u001b[38;5;241m=\u001b[39m proto\u001b[38;5;241m.\u001b[39mCALL_COMMAND_NAME \u001b[38;5;241m+\u001b[39m\\\n\u001b[1;32m   1317\u001b[0m     \u001b[38;5;28mself\u001b[39m\u001b[38;5;241m.\u001b[39mcommand_header \u001b[38;5;241m+\u001b[39m\\\n\u001b[1;32m   1318\u001b[0m     args_command \u001b[38;5;241m+\u001b[39m\\\n\u001b[1;32m   1319\u001b[0m     proto\u001b[38;5;241m.\u001b[39mEND_COMMAND_PART\n\u001b[0;32m-> 1321\u001b[0m answer \u001b[38;5;241m=\u001b[39m \u001b[38;5;28;43mself\u001b[39;49m\u001b[38;5;241;43m.\u001b[39;49m\u001b[43mgateway_client\u001b[49m\u001b[38;5;241;43m.\u001b[39;49m\u001b[43msend_command\u001b[49m\u001b[43m(\u001b[49m\u001b[43mcommand\u001b[49m\u001b[43m)\u001b[49m\n\u001b[1;32m   1322\u001b[0m return_value \u001b[38;5;241m=\u001b[39m get_return_value(\n\u001b[1;32m   1323\u001b[0m     answer, \u001b[38;5;28mself\u001b[39m\u001b[38;5;241m.\u001b[39mgateway_client, \u001b[38;5;28mself\u001b[39m\u001b[38;5;241m.\u001b[39mtarget_id, \u001b[38;5;28mself\u001b[39m\u001b[38;5;241m.\u001b[39mname)\n\u001b[1;32m   1325\u001b[0m \u001b[38;5;28;01mfor\u001b[39;00m temp_arg \u001b[38;5;129;01min\u001b[39;00m temp_args:\n",
      "File \u001b[0;32m/usr/local/spark/python/lib/py4j-0.10.9.7-src.zip/py4j/java_gateway.py:1036\u001b[0m, in \u001b[0;36mGatewayClient.send_command\u001b[0;34m(self, command, retry, binary)\u001b[0m\n\u001b[1;32m   1015\u001b[0m \u001b[38;5;28;01mdef\u001b[39;00m \u001b[38;5;21msend_command\u001b[39m(\u001b[38;5;28mself\u001b[39m, command, retry\u001b[38;5;241m=\u001b[39m\u001b[38;5;28;01mTrue\u001b[39;00m, binary\u001b[38;5;241m=\u001b[39m\u001b[38;5;28;01mFalse\u001b[39;00m):\n\u001b[1;32m   1016\u001b[0m \u001b[38;5;250m    \u001b[39m\u001b[38;5;124;03m\"\"\"Sends a command to the JVM. This method is not intended to be\u001b[39;00m\n\u001b[1;32m   1017\u001b[0m \u001b[38;5;124;03m       called directly by Py4J users. It is usually called by\u001b[39;00m\n\u001b[1;32m   1018\u001b[0m \u001b[38;5;124;03m       :class:`JavaMember` instances.\u001b[39;00m\n\u001b[0;32m   (...)\u001b[0m\n\u001b[1;32m   1034\u001b[0m \u001b[38;5;124;03m     if `binary` is `True`.\u001b[39;00m\n\u001b[1;32m   1035\u001b[0m \u001b[38;5;124;03m    \"\"\"\u001b[39;00m\n\u001b[0;32m-> 1036\u001b[0m     connection \u001b[38;5;241m=\u001b[39m \u001b[38;5;28;43mself\u001b[39;49m\u001b[38;5;241;43m.\u001b[39;49m\u001b[43m_get_connection\u001b[49m\u001b[43m(\u001b[49m\u001b[43m)\u001b[49m\n\u001b[1;32m   1037\u001b[0m     \u001b[38;5;28;01mtry\u001b[39;00m:\n\u001b[1;32m   1038\u001b[0m         response \u001b[38;5;241m=\u001b[39m connection\u001b[38;5;241m.\u001b[39msend_command(command)\n",
      "File \u001b[0;32m/usr/local/spark/python/lib/py4j-0.10.9.7-src.zip/py4j/clientserver.py:284\u001b[0m, in \u001b[0;36mJavaClient._get_connection\u001b[0;34m(self)\u001b[0m\n\u001b[1;32m    281\u001b[0m     \u001b[38;5;28;01mpass\u001b[39;00m\n\u001b[1;32m    283\u001b[0m \u001b[38;5;28;01mif\u001b[39;00m connection \u001b[38;5;129;01mis\u001b[39;00m \u001b[38;5;28;01mNone\u001b[39;00m \u001b[38;5;129;01mor\u001b[39;00m connection\u001b[38;5;241m.\u001b[39msocket \u001b[38;5;129;01mis\u001b[39;00m \u001b[38;5;28;01mNone\u001b[39;00m:\n\u001b[0;32m--> 284\u001b[0m     connection \u001b[38;5;241m=\u001b[39m \u001b[38;5;28;43mself\u001b[39;49m\u001b[38;5;241;43m.\u001b[39;49m\u001b[43m_create_new_connection\u001b[49m\u001b[43m(\u001b[49m\u001b[43m)\u001b[49m\n\u001b[1;32m    285\u001b[0m \u001b[38;5;28;01mreturn\u001b[39;00m connection\n",
      "File \u001b[0;32m/usr/local/spark/python/lib/py4j-0.10.9.7-src.zip/py4j/clientserver.py:291\u001b[0m, in \u001b[0;36mJavaClient._create_new_connection\u001b[0;34m(self)\u001b[0m\n\u001b[1;32m    287\u001b[0m \u001b[38;5;28;01mdef\u001b[39;00m \u001b[38;5;21m_create_new_connection\u001b[39m(\u001b[38;5;28mself\u001b[39m):\n\u001b[1;32m    288\u001b[0m     connection \u001b[38;5;241m=\u001b[39m ClientServerConnection(\n\u001b[1;32m    289\u001b[0m         \u001b[38;5;28mself\u001b[39m\u001b[38;5;241m.\u001b[39mjava_parameters, \u001b[38;5;28mself\u001b[39m\u001b[38;5;241m.\u001b[39mpython_parameters,\n\u001b[1;32m    290\u001b[0m         \u001b[38;5;28mself\u001b[39m\u001b[38;5;241m.\u001b[39mgateway_property, \u001b[38;5;28mself\u001b[39m)\n\u001b[0;32m--> 291\u001b[0m     \u001b[43mconnection\u001b[49m\u001b[38;5;241;43m.\u001b[39;49m\u001b[43mconnect_to_java_server\u001b[49m\u001b[43m(\u001b[49m\u001b[43m)\u001b[49m\n\u001b[1;32m    292\u001b[0m     \u001b[38;5;28mself\u001b[39m\u001b[38;5;241m.\u001b[39mset_thread_connection(connection)\n\u001b[1;32m    293\u001b[0m     \u001b[38;5;28;01mreturn\u001b[39;00m connection\n",
      "File \u001b[0;32m/usr/local/spark/python/lib/py4j-0.10.9.7-src.zip/py4j/clientserver.py:438\u001b[0m, in \u001b[0;36mClientServerConnection.connect_to_java_server\u001b[0;34m(self)\u001b[0m\n\u001b[1;32m    435\u001b[0m \u001b[38;5;28;01mif\u001b[39;00m \u001b[38;5;28mself\u001b[39m\u001b[38;5;241m.\u001b[39mssl_context:\n\u001b[1;32m    436\u001b[0m     \u001b[38;5;28mself\u001b[39m\u001b[38;5;241m.\u001b[39msocket \u001b[38;5;241m=\u001b[39m \u001b[38;5;28mself\u001b[39m\u001b[38;5;241m.\u001b[39mssl_context\u001b[38;5;241m.\u001b[39mwrap_socket(\n\u001b[1;32m    437\u001b[0m         \u001b[38;5;28mself\u001b[39m\u001b[38;5;241m.\u001b[39msocket, server_hostname\u001b[38;5;241m=\u001b[39m\u001b[38;5;28mself\u001b[39m\u001b[38;5;241m.\u001b[39mjava_address)\n\u001b[0;32m--> 438\u001b[0m \u001b[38;5;28;43mself\u001b[39;49m\u001b[38;5;241;43m.\u001b[39;49m\u001b[43msocket\u001b[49m\u001b[38;5;241;43m.\u001b[39;49m\u001b[43mconnect\u001b[49m\u001b[43m(\u001b[49m\u001b[43m(\u001b[49m\u001b[38;5;28;43mself\u001b[39;49m\u001b[38;5;241;43m.\u001b[39;49m\u001b[43mjava_address\u001b[49m\u001b[43m,\u001b[49m\u001b[43m \u001b[49m\u001b[38;5;28;43mself\u001b[39;49m\u001b[38;5;241;43m.\u001b[39;49m\u001b[43mjava_port\u001b[49m\u001b[43m)\u001b[49m\u001b[43m)\u001b[49m\n\u001b[1;32m    439\u001b[0m \u001b[38;5;28mself\u001b[39m\u001b[38;5;241m.\u001b[39mstream \u001b[38;5;241m=\u001b[39m \u001b[38;5;28mself\u001b[39m\u001b[38;5;241m.\u001b[39msocket\u001b[38;5;241m.\u001b[39mmakefile(\u001b[38;5;124m\"\u001b[39m\u001b[38;5;124mrb\u001b[39m\u001b[38;5;124m\"\u001b[39m)\n\u001b[1;32m    440\u001b[0m \u001b[38;5;28mself\u001b[39m\u001b[38;5;241m.\u001b[39mis_connected \u001b[38;5;241m=\u001b[39m \u001b[38;5;28;01mTrue\u001b[39;00m\n",
      "\u001b[0;31mConnectionRefusedError\u001b[0m: [Errno 111] Connection refused"
     ]
    }
   ],
   "source": [
    "# Просмотр данных по виду артисту и региону\n",
    "regions_by_artist = df.groupBy('region', 'artist').count().toPandas()\n",
    "regions_by_artist[:5]"
   ]
  },
  {
   "cell_type": "markdown",
   "metadata": {
    "id": "wdxUAaFNICWr"
   },
   "source": [
    "# **7. Pyspark UDF** <a class=\"anchor\" id=\"6\"></a>\n",
    "[Go back to table of contents](#0.1)\n",
    "\n",
    "Что такое `UDF`?\n",
    "\n",
    "`User Defined Functions` - это пользовательские функции. Если  знакомы с `SQL`, `UDF` не являются для вас чем-то новым, поскольку большинство традиционных баз данных РСУБД поддерживают пользовательские функции, эти функции необходимо зарегистрировать в библиотеке базы данных и использовать их в `SQL` как обычные функции.\n",
    "\n",
    "`UDF PySpark` аналогичны `UDF` в традиционных базах данных. В `PySpark` создается функция в синтаксисе `Python` и обертываете ее `PySpark SQL udf()` или регистрируете ее как `udf` и используете ее в `DataFrame` и `SQL` соответственно.\n",
    "\n",
    "Зачем нужна `UDF`?\n",
    "\n",
    "`UDF` используются для расширения функций платформы и повторного использования этих функций в нескольких `DataFrame`. Например, требуется преобразовать каждую первую букву слова в строке имени в заглавную; Встроенные функции `PySpark` не имеют этой функции, поэтому можно создать `UDF` и повторно использовать ее по мере необходимости во многих кадрах данных. После создания `UDF` их можно повторно использовать в нескольких выражениях `DataFrame` и `SQL`.\n",
    "\n",
    "Прежде чем создавать какую-либо пользовательскую функцию, изучите, доступна ли аналогичная функция, которая вам нужна, в `Spark SQL Functions` . `PySpark SQL` предоставляет несколько предопределенных общих функций, и с каждым выпуском добавляется множество новых функций, следовательно, лучше всего проверить, прежде чем изобретать велосипед.\n",
    "\n",
    "При создании `UDF`  необходимо проектировать их очень тщательно, иначе столкнетесь с проблемами оптимизации и производительности.\n",
    "\n",
    "Короче говоря, регистрация UDF в Pyspark — это процесс **превращения функций Python в функции PySpark (UDF)**.\n",
    "\n",
    "![Spark_vs_Pandas.jpg](https://drive.google.com/uc?export=view&id=1x5s0p9oa-dNIsNo5XzYQjdMQUxt99WYP)\n",
    "\n",
    "Когда запускаем код в кластерах `Spark`, этот метод ускорит процесс и сэкономит время выполнения.\n",
    "\n",
    "Чтобы узнать больше о `Pyspark UDF`, посетите https://changhsinlee.com/pyspark-udf/.\n",
    "\n",
    "Выполним регистрацию функции Python к UDF в столбце `timestamp`.\n",
    "\n",
    "\n",
    "Этот столбец очень важен, если используем этот набор данных для прогнозирования, например, для прогнозирования частоты пульса, чтобы определить возможные проблемы с сердцем у пользователя фитнес-трекера.\n"
   ]
  },
  {
   "cell_type": "code",
   "execution_count": null,
   "metadata": {},
   "outputs": [],
   "source": [
    "# 1. Пример UDF: Получение имени исполнителя в верхнем регистре\n",
    "def uppercase_artist(name):\n",
    "    return name.upper()\n",
    "\n",
    "# Создаем UDF и указываем тип возвращаемого значения\n",
    "uppercase_udf = udf(uppercase_artist, StringType())\n",
    "\n",
    "# Применяем UDF к столбцу \"artist\"\n",
    "df = df.withColumn(\"artist_uppercase\", uppercase_udf(\"artist\"))\n",
    "\n",
    "df.show()\n",
    "\n",
    "# 2. Пример UDF: Получение длины названия песни\n",
    "def title_length(title):\n",
    "    return len(title)\n",
    "\n",
    "# Создаем UDF и указываем тип возвращаемого значения\n",
    "title_length_udf = udf(title_length, IntegerType())\n",
    "\n",
    "# Применяем UDF к столбцу \"title\"\n",
    "df = df.withColumn(\"title_length\", title_length_udf(\"title\"))\n",
    "\n",
    "df.show()\n",
    "\n",
    "# 3. Пример UDF: Преобразование количества стримов в миллионы\n",
    "def to_millions(streams):\n",
    "    return streams / 1_000_000.0\n",
    "\n",
    "# Создаем UDF и указываем тип возвращаемого значения\n",
    "to_millions_udf = udf(to_millions, DoubleType())\n",
    "\n",
    "# Применяем UDF к столбцу \"streams\"\n",
    "df = df.withColumn(\"streams_millions\", to_millions_udf(\"streams\"))\n",
    "\n",
    "df.show()"
   ]
  }
 ],
 "metadata": {
  "colab": {
   "provenance": []
  },
  "kernelspec": {
   "display_name": "Python 3 (ipykernel)",
   "language": "python",
   "name": "python3"
  },
  "language_info": {
   "codemirror_mode": {
    "name": "ipython",
    "version": 3
   },
   "file_extension": ".py",
   "mimetype": "text/x-python",
   "name": "python",
   "nbconvert_exporter": "python",
   "pygments_lexer": "ipython3",
   "version": "3.11.6"
  }
 },
 "nbformat": 4,
 "nbformat_minor": 4
}
